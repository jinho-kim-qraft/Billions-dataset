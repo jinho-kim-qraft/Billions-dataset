{
 "cells": [
  {
   "cell_type": "code",
   "execution_count": null,
   "metadata": {},
   "outputs": [],
   "source": [
    "import pandas as pd\n",
    "\n",
    "def resample_daily_returns(returns: pd.Series, freq: str) -> pd.Series:\n",
    "    return returns.resample(freq).agg(lambda x: (x + 1).prod() - 1)\n",
    "    "
   ]
  }
 ],
 "metadata": {
  "language_info": {
   "name": "python"
  },
  "orig_nbformat": 4
 },
 "nbformat": 4,
 "nbformat_minor": 2
}
